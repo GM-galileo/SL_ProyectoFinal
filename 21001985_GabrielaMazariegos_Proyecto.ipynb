{
 "cells": [
  {
   "cell_type": "markdown",
   "id": "great-empire",
   "metadata": {},
   "source": [
    "# <font color=blue>**PROYECTO FINAL - CLASIFICACIÓN BINARIA (HUNDIMIENTO DE TITANIC)** "
   ]
  },
  {
   "cell_type": "markdown",
   "id": "retained-interaction",
   "metadata": {},
   "source": [
    "## <font color=blue>**PARTE 1: Entrenamiento y validación y selección**"
   ]
  },
  {
   "cell_type": "code",
   "execution_count": 1,
   "id": "checked-proxy",
   "metadata": {},
   "outputs": [],
   "source": [
    "import numpy as np\n",
    "import imageio as imio\n",
    "import matplotlib.pyplot as plt\n",
    "import seaborn as sns\n",
    "import datetime, os\n",
    "import tensorflow as tf\n",
    "import pandas as pd\n",
    "import statistics as st\n",
    "from sklearn import datasets\n",
    "from sklearn.preprocessing import PolynomialFeatures\n",
    "from sklearn.model_selection import train_test_split\n",
    "from sklearn.preprocessing import StandardScaler\n",
    "\n",
    "import datetime, os"
   ]
  },
  {
   "cell_type": "code",
   "execution_count": 2,
   "id": "cosmetic-default",
   "metadata": {},
   "outputs": [
    {
     "name": "stdout",
     "output_type": "stream",
     "text": [
      "WARNING:tensorflow:From C:\\Users\\gabri\\anaconda3\\envs\\pyt_Ejercicio1\\lib\\site-packages\\tensorflow\\python\\compat\\v2_compat.py:96: disable_resource_variables (from tensorflow.python.ops.variable_scope) is deprecated and will be removed in a future version.\n",
      "Instructions for updating:\n",
      "non-resource variables are not supported in the long term\n",
      "Enabled compatitility to tf1.x\n"
     ]
    }
   ],
   "source": [
    "if tf.__version__.startswith(\"2.\"):\n",
    "  import tensorflow.compat.v1 as tf\n",
    "  tf.compat.v1.disable_v2_behavior()\n",
    "  tf.compat.v1.disable_eager_execution()\n",
    "  print(\"Enabled compatitility to tf1.x\")"
   ]
  },
  {
   "cell_type": "code",
   "execution_count": 3,
   "id": "supreme-planet",
   "metadata": {},
   "outputs": [
    {
     "data": {
      "text/html": [
       "<div>\n",
       "<style scoped>\n",
       "    .dataframe tbody tr th:only-of-type {\n",
       "        vertical-align: middle;\n",
       "    }\n",
       "\n",
       "    .dataframe tbody tr th {\n",
       "        vertical-align: top;\n",
       "    }\n",
       "\n",
       "    .dataframe thead th {\n",
       "        text-align: right;\n",
       "    }\n",
       "</style>\n",
       "<table border=\"1\" class=\"dataframe\">\n",
       "  <thead>\n",
       "    <tr style=\"text-align: right;\">\n",
       "      <th></th>\n",
       "      <th>PassengerId</th>\n",
       "      <th>Name</th>\n",
       "      <th>Age</th>\n",
       "      <th>SibSp</th>\n",
       "      <th>Parch</th>\n",
       "      <th>Ticket</th>\n",
       "      <th>Fare</th>\n",
       "      <th>Cabin</th>\n",
       "      <th>Embarked</th>\n",
       "      <th>passenger_class</th>\n",
       "      <th>passenger_sex</th>\n",
       "      <th>passenger_survived</th>\n",
       "    </tr>\n",
       "  </thead>\n",
       "  <tbody>\n",
       "    <tr>\n",
       "      <th>0</th>\n",
       "      <td>1</td>\n",
       "      <td>Braund, Mr. Owen Harris</td>\n",
       "      <td>22.0</td>\n",
       "      <td>1</td>\n",
       "      <td>0</td>\n",
       "      <td>A/5 21171</td>\n",
       "      <td>7.2500</td>\n",
       "      <td>NaN</td>\n",
       "      <td>S</td>\n",
       "      <td>Lower</td>\n",
       "      <td>M</td>\n",
       "      <td>N</td>\n",
       "    </tr>\n",
       "    <tr>\n",
       "      <th>1</th>\n",
       "      <td>2</td>\n",
       "      <td>Cumings, Mrs. John Bradley (Florence Briggs Th...</td>\n",
       "      <td>38.0</td>\n",
       "      <td>1</td>\n",
       "      <td>0</td>\n",
       "      <td>PC 17599</td>\n",
       "      <td>71.2833</td>\n",
       "      <td>C85</td>\n",
       "      <td>C</td>\n",
       "      <td>Upper</td>\n",
       "      <td>F</td>\n",
       "      <td>Y</td>\n",
       "    </tr>\n",
       "    <tr>\n",
       "      <th>2</th>\n",
       "      <td>3</td>\n",
       "      <td>Heikkinen, Miss. Laina</td>\n",
       "      <td>26.0</td>\n",
       "      <td>0</td>\n",
       "      <td>0</td>\n",
       "      <td>STON/O2. 3101282</td>\n",
       "      <td>7.9250</td>\n",
       "      <td>NaN</td>\n",
       "      <td>S</td>\n",
       "      <td>Lower</td>\n",
       "      <td>F</td>\n",
       "      <td>Y</td>\n",
       "    </tr>\n",
       "    <tr>\n",
       "      <th>3</th>\n",
       "      <td>4</td>\n",
       "      <td>Futrelle, Mrs. Jacques Heath (Lily May Peel)</td>\n",
       "      <td>35.0</td>\n",
       "      <td>1</td>\n",
       "      <td>0</td>\n",
       "      <td>113803</td>\n",
       "      <td>53.1000</td>\n",
       "      <td>C123</td>\n",
       "      <td>S</td>\n",
       "      <td>Upper</td>\n",
       "      <td>F</td>\n",
       "      <td>Y</td>\n",
       "    </tr>\n",
       "    <tr>\n",
       "      <th>4</th>\n",
       "      <td>5</td>\n",
       "      <td>Allen, Mr. William Henry</td>\n",
       "      <td>35.0</td>\n",
       "      <td>0</td>\n",
       "      <td>0</td>\n",
       "      <td>373450</td>\n",
       "      <td>8.0500</td>\n",
       "      <td>NaN</td>\n",
       "      <td>S</td>\n",
       "      <td>Lower</td>\n",
       "      <td>M</td>\n",
       "      <td>N</td>\n",
       "    </tr>\n",
       "    <tr>\n",
       "      <th>...</th>\n",
       "      <td>...</td>\n",
       "      <td>...</td>\n",
       "      <td>...</td>\n",
       "      <td>...</td>\n",
       "      <td>...</td>\n",
       "      <td>...</td>\n",
       "      <td>...</td>\n",
       "      <td>...</td>\n",
       "      <td>...</td>\n",
       "      <td>...</td>\n",
       "      <td>...</td>\n",
       "      <td>...</td>\n",
       "    </tr>\n",
       "    <tr>\n",
       "      <th>886</th>\n",
       "      <td>887</td>\n",
       "      <td>Montvila, Rev. Juozas</td>\n",
       "      <td>27.0</td>\n",
       "      <td>0</td>\n",
       "      <td>0</td>\n",
       "      <td>211536</td>\n",
       "      <td>13.0000</td>\n",
       "      <td>NaN</td>\n",
       "      <td>S</td>\n",
       "      <td>Middle</td>\n",
       "      <td>M</td>\n",
       "      <td>N</td>\n",
       "    </tr>\n",
       "    <tr>\n",
       "      <th>887</th>\n",
       "      <td>888</td>\n",
       "      <td>Graham, Miss. Margaret Edith</td>\n",
       "      <td>19.0</td>\n",
       "      <td>0</td>\n",
       "      <td>0</td>\n",
       "      <td>112053</td>\n",
       "      <td>30.0000</td>\n",
       "      <td>B42</td>\n",
       "      <td>S</td>\n",
       "      <td>Upper</td>\n",
       "      <td>F</td>\n",
       "      <td>Y</td>\n",
       "    </tr>\n",
       "    <tr>\n",
       "      <th>888</th>\n",
       "      <td>889</td>\n",
       "      <td>Johnston, Miss. Catherine Helen \"Carrie\"</td>\n",
       "      <td>NaN</td>\n",
       "      <td>1</td>\n",
       "      <td>2</td>\n",
       "      <td>W./C. 6607</td>\n",
       "      <td>23.4500</td>\n",
       "      <td>NaN</td>\n",
       "      <td>S</td>\n",
       "      <td>Lower</td>\n",
       "      <td>F</td>\n",
       "      <td>N</td>\n",
       "    </tr>\n",
       "    <tr>\n",
       "      <th>889</th>\n",
       "      <td>890</td>\n",
       "      <td>Behr, Mr. Karl Howell</td>\n",
       "      <td>26.0</td>\n",
       "      <td>0</td>\n",
       "      <td>0</td>\n",
       "      <td>111369</td>\n",
       "      <td>30.0000</td>\n",
       "      <td>C148</td>\n",
       "      <td>C</td>\n",
       "      <td>Upper</td>\n",
       "      <td>M</td>\n",
       "      <td>Y</td>\n",
       "    </tr>\n",
       "    <tr>\n",
       "      <th>890</th>\n",
       "      <td>891</td>\n",
       "      <td>Dooley, Mr. Patrick</td>\n",
       "      <td>32.0</td>\n",
       "      <td>0</td>\n",
       "      <td>0</td>\n",
       "      <td>370376</td>\n",
       "      <td>7.7500</td>\n",
       "      <td>NaN</td>\n",
       "      <td>Q</td>\n",
       "      <td>Lower</td>\n",
       "      <td>M</td>\n",
       "      <td>N</td>\n",
       "    </tr>\n",
       "  </tbody>\n",
       "</table>\n",
       "<p>891 rows × 12 columns</p>\n",
       "</div>"
      ],
      "text/plain": [
       "     PassengerId                                               Name   Age  \\\n",
       "0              1                            Braund, Mr. Owen Harris  22.0   \n",
       "1              2  Cumings, Mrs. John Bradley (Florence Briggs Th...  38.0   \n",
       "2              3                             Heikkinen, Miss. Laina  26.0   \n",
       "3              4       Futrelle, Mrs. Jacques Heath (Lily May Peel)  35.0   \n",
       "4              5                           Allen, Mr. William Henry  35.0   \n",
       "..           ...                                                ...   ...   \n",
       "886          887                              Montvila, Rev. Juozas  27.0   \n",
       "887          888                       Graham, Miss. Margaret Edith  19.0   \n",
       "888          889           Johnston, Miss. Catherine Helen \"Carrie\"   NaN   \n",
       "889          890                              Behr, Mr. Karl Howell  26.0   \n",
       "890          891                                Dooley, Mr. Patrick  32.0   \n",
       "\n",
       "     SibSp  Parch            Ticket     Fare Cabin Embarked passenger_class  \\\n",
       "0        1      0         A/5 21171   7.2500   NaN        S           Lower   \n",
       "1        1      0          PC 17599  71.2833   C85        C           Upper   \n",
       "2        0      0  STON/O2. 3101282   7.9250   NaN        S           Lower   \n",
       "3        1      0            113803  53.1000  C123        S           Upper   \n",
       "4        0      0            373450   8.0500   NaN        S           Lower   \n",
       "..     ...    ...               ...      ...   ...      ...             ...   \n",
       "886      0      0            211536  13.0000   NaN        S          Middle   \n",
       "887      0      0            112053  30.0000   B42        S           Upper   \n",
       "888      1      2        W./C. 6607  23.4500   NaN        S           Lower   \n",
       "889      0      0            111369  30.0000  C148        C           Upper   \n",
       "890      0      0            370376   7.7500   NaN        Q           Lower   \n",
       "\n",
       "    passenger_sex passenger_survived  \n",
       "0               M                  N  \n",
       "1               F                  Y  \n",
       "2               F                  Y  \n",
       "3               F                  Y  \n",
       "4               M                  N  \n",
       "..            ...                ...  \n",
       "886             M                  N  \n",
       "887             F                  Y  \n",
       "888             F                  N  \n",
       "889             M                  Y  \n",
       "890             M                  N  \n",
       "\n",
       "[891 rows x 12 columns]"
      ]
     },
     "execution_count": 3,
     "metadata": {},
     "output_type": "execute_result"
    }
   ],
   "source": [
    "Titanic_Data = pd.read_csv('data_titanic_proyecto.csv')\n",
    "Titanic_Data"
   ]
  },
  {
   "cell_type": "code",
   "execution_count": 4,
   "id": "english-heath",
   "metadata": {},
   "outputs": [
    {
     "data": {
      "text/plain": [
       "(891, 12)"
      ]
     },
     "execution_count": 4,
     "metadata": {},
     "output_type": "execute_result"
    }
   ],
   "source": [
    "Titanic_Data.shape"
   ]
  },
  {
   "cell_type": "markdown",
   "id": "intelligent-elephant",
   "metadata": {},
   "source": [
    "### <font color=blue>**1.1. Analisis De Variables**  "
   ]
  },
  {
   "cell_type": "markdown",
   "id": "grave-leave",
   "metadata": {},
   "source": [
    "**Variables Categoricas**\n",
    "\n",
    "\t- Name -> Se descarta ya que solo provee informacion descriptiva\n",
    "\t- Ticket -> Se descarta ya que solo provee informacion descriptiva\n",
    "\t- Embarked \n",
    "\t- passenger_class \n",
    "\t- passenger_sex \n",
    "\t- Cabin   -> Se descarta ya que sel 77% de datos es nulo\n",
    "\n",
    "**Variables Numericas**\n",
    "\n",
    "\t- PassengerId -> Se descarta ya que solo provee informacion descriptiva\n",
    "\t- Age \n",
    "\t- SibSp \n",
    "\t- Parch \n",
    "\t- Fare "
   ]
  },
  {
   "cell_type": "code",
   "execution_count": 5,
   "id": "cutting-preliminary",
   "metadata": {},
   "outputs": [
    {
     "data": {
      "image/png": "[encoded data removed]",
      "text/plain": [
       "<Figure size 1296x1440 with 4 Axes>"
      ]
     },
     "metadata": {},
     "output_type": "display_data"
    }
   ],
   "source": [
    "import warnings\n",
    "warnings.simplefilter(action='ignore', category=FutureWarning)\n",
    "sns.set_theme();\n",
    "fig, ax = plt.subplots(2, 2,figsize=(18, 20))\n",
    "\n",
    "ax[0,0].set_title('Variable - Age')\n",
    "sns.distplot(Titanic_Data.iloc[:,2],ax=ax[0,0])\n",
    "\n",
    "ax[0,1].set_title('Variable - SibSp')\n",
    "sns.distplot(Titanic_Data.iloc[:,3],ax=ax[0,1])\n",
    "\n",
    "ax[1,0].set_title('Variable - Parch')\n",
    "sns.distplot(Titanic_Data.iloc[:,4],ax=ax[1,0])\n",
    "\n",
    "ax[1,1].set_title('Variable - Fare')\n",
    "sns.distplot(Titanic_Data.iloc[:,6],ax=ax[1,1])\n",
    "\n",
    "plt.show()"
   ]
  },
  {
   "cell_type": "markdown",
   "id": "sealed-spain",
   "metadata": {},
   "source": [
    "### <font color=blue>**1.2. Feature Engineering**  "
   ]
  },
  {
   "cell_type": "code",
   "execution_count": 6,
   "id": "cloudy-consolidation",
   "metadata": {},
   "outputs": [],
   "source": [
    "DataFE = Titanic_Data.copy()"
   ]
  },
  {
   "cell_type": "code",
   "execution_count": 7,
   "id": "clean-queens",
   "metadata": {},
   "outputs": [],
   "source": [
    "DataFE = DataFE.drop([\"Name\",\"Ticket\",\"Cabin\",\"PassengerId\"], axis=1)"
   ]
  },
  {
   "cell_type": "markdown",
   "id": "radio-nebraska",
   "metadata": {},
   "source": [
    "<font color=blue>**1.2.1. Data Imputation**  "
   ]
  },
  {
   "cell_type": "code",
   "execution_count": 8,
   "id": "bound-singing",
   "metadata": {},
   "outputs": [
    {
     "data": {
      "text/plain": [
       "Age                   177\n",
       "SibSp                   0\n",
       "Parch                   0\n",
       "Fare                    0\n",
       "Embarked                2\n",
       "passenger_class         0\n",
       "passenger_sex           0\n",
       "passenger_survived      0\n",
       "dtype: int64"
      ]
     },
     "execution_count": 8,
     "metadata": {},
     "output_type": "execute_result"
    }
   ],
   "source": [
    "#LISTADO DE VARIABLES CON N/A\n",
    "DataFE.isnull().sum()"
   ]
  },
  {
   "cell_type": "code",
   "execution_count": 9,
   "id": "divided-ownership",
   "metadata": {},
   "outputs": [
    {
     "data": {
      "image/png": "[encoded data removed]",
      "text/plain": [
       "<Figure size 432x432 with 1 Axes>"
      ]
     },
     "metadata": {},
     "output_type": "display_data"
    }
   ],
   "source": [
    "D = Titanic_Data.copy()\n",
    "D[\"Survived\"] = np.where(D.passenger_survived == 'Y', 1, 0)\n",
    "g = sns.catplot(x=\"Embarked\", y=\"Survived\",  data=D,height=6, kind=\"bar\")"
   ]
  },
  {
   "cell_type": "code",
   "execution_count": 10,
   "id": "aggressive-event",
   "metadata": {},
   "outputs": [],
   "source": [
    "#IMPUTACION CATEGORIA (mas del 50% que sobrevivio es categoria 'C')\n",
    "DataFE[\"Embarked\"] = DataFE[\"Embarked\"]. fillna(\"C\")"
   ]
  },
  {
   "cell_type": "code",
   "execution_count": 11,
   "id": "impressed-bracelet",
   "metadata": {},
   "outputs": [
    {
     "name": "stdout",
     "output_type": "stream",
     "text": [
      "Age has 177 null values.\n",
      "Age_Mean has 0 null values.\n",
      "Age_Media has 0 null values.\n",
      "Age_Random has 0 null values.\n"
     ]
    },
    {
     "data": {
      "text/plain": [
       "<AxesSubplot:ylabel='Density'>"
      ]
     },
     "execution_count": 11,
     "metadata": {},
     "output_type": "execute_result"
    },
    {
     "data": {
      "image/png": "[encoded data removed]",
      "text/plain": [
       "<Figure size 432x288 with 1 Axes>"
      ]
     },
     "metadata": {},
     "output_type": "display_data"
    }
   ],
   "source": [
    "#IMPUTACION DE MEDIA/MEDIANA\n",
    "\n",
    "print('Age has {} null values.'.format(DataFE.isnull().sum()['Age']))\n",
    "DataFE['Age_Mean'] = DataFE['Age'].fillna((DataFE['Age'].mean()))\n",
    "DataFE['Age_Median'] = DataFE['Age'].fillna((DataFE['Age'].median()))\n",
    "print('Age_Mean has {} null values.'.format(DataFE.isnull().sum()['Age_Mean']))\n",
    "print('Age_Media has {} null values.'.format(DataFE.isnull().sum()['Age_Median']))\n",
    "\n",
    "\n",
    "#IMPUTACION RANDOM\n",
    "#max(DataFE['Age'])  -> 74\n",
    "DataFE['Age_Random'] = DataFE['Age']\n",
    "nas = DataFE['Age_Random'].isnull()\n",
    "DataFE.loc[nas, 'Age_Random'] = np.random.choice(DataFE.loc[~nas, 'Age_Random'], replace=True, size=sum(nas))\n",
    "print('Age_Random has {} null values.'.format(DataFE.isnull().sum()['Age_Random']))\n",
    "\n",
    "DataFE[[ \"Age_Mean\", \"Age_Median\",\"Age_Random\",\"Age\"]].plot.kde()"
   ]
  },
  {
   "cell_type": "code",
   "execution_count": 12,
   "id": "grand-hungarian",
   "metadata": {},
   "outputs": [],
   "source": [
    "#La mejor imputacion es random\n",
    "DataFE['Age'] = DataFE['Age_Random'] \n",
    "DataFE = DataFE.drop([\"Age_Random\",\"Age_Median\",\"Age_Mean\"], axis=1)"
   ]
  },
  {
   "cell_type": "markdown",
   "id": "split-classics",
   "metadata": {},
   "source": [
    "<font color=blue>**1.2.2. Codificacion de Variables Categoricas**  "
   ]
  },
  {
   "cell_type": "code",
   "execution_count": 13,
   "id": "minus-sudan",
   "metadata": {},
   "outputs": [
    {
     "name": "stdout",
     "output_type": "stream",
     "text": [
      "Embarked\n",
      "C    0.190797\n",
      "Q    0.086420\n",
      "S    0.722783\n",
      "dtype: float64\n"
     ]
    }
   ],
   "source": [
    "#Frequency Encoding\n",
    "Embarked_FE  = (DataFE.groupby('Embarked').size()) / len(DataFE)\n",
    "print(Embarked_FE)\n",
    "DataFE['Embarked_FE'] = DataFE['Embarked'].apply(lambda x : Embarked_FE[x])"
   ]
  },
  {
   "cell_type": "code",
   "execution_count": 14,
   "id": "abstract-rehabilitation",
   "metadata": {},
   "outputs": [
    {
     "name": "stdout",
     "output_type": "stream",
     "text": [
      "passenger_class\n",
      "Lower     0.551066\n",
      "Middle    0.206510\n",
      "Upper     0.242424\n",
      "dtype: float64\n"
     ]
    }
   ],
   "source": [
    "passenger_class_FE  = (DataFE.groupby('passenger_class').size()) / len(DataFE)\n",
    "print(passenger_class_FE)\n",
    "DataFE['passenger_class_FE'] = DataFE['passenger_class'].apply(lambda x : passenger_class_FE[x])"
   ]
  },
  {
   "cell_type": "code",
   "execution_count": 15,
   "id": "above-billy",
   "metadata": {},
   "outputs": [
    {
     "name": "stdout",
     "output_type": "stream",
     "text": [
      "passenger_sex\n",
      "F    0.352413\n",
      "M    0.647587\n",
      "dtype: float64\n"
     ]
    }
   ],
   "source": [
    "passenger_sex_FE  = (DataFE.groupby('passenger_sex').size()) / len(DataFE)\n",
    "print(passenger_sex_FE)\n",
    "DataFE['passenger_sex_FE'] = DataFE['passenger_sex'].apply(lambda x : passenger_sex_FE[x])"
   ]
  },
  {
   "cell_type": "code",
   "execution_count": 16,
   "id": "brave-right",
   "metadata": {},
   "outputs": [
    {
     "data": {
      "text/html": [
       "<div>\n",
       "<style scoped>\n",
       "    .dataframe tbody tr th:only-of-type {\n",
       "        vertical-align: middle;\n",
       "    }\n",
       "\n",
       "    .dataframe tbody tr th {\n",
       "        vertical-align: top;\n",
       "    }\n",
       "\n",
       "    .dataframe thead th {\n",
       "        text-align: right;\n",
       "    }\n",
       "</style>\n",
       "<table border=\"1\" class=\"dataframe\">\n",
       "  <thead>\n",
       "    <tr style=\"text-align: right;\">\n",
       "      <th></th>\n",
       "      <th>Age</th>\n",
       "      <th>SibSp</th>\n",
       "      <th>Parch</th>\n",
       "      <th>Fare</th>\n",
       "      <th>passenger_survived</th>\n",
       "      <th>Embarked_FE</th>\n",
       "      <th>passenger_class_FE</th>\n",
       "      <th>passenger_sex_FE</th>\n",
       "    </tr>\n",
       "  </thead>\n",
       "  <tbody>\n",
       "    <tr>\n",
       "      <th>0</th>\n",
       "      <td>22.0</td>\n",
       "      <td>1</td>\n",
       "      <td>0</td>\n",
       "      <td>7.2500</td>\n",
       "      <td>N</td>\n",
       "      <td>0.722783</td>\n",
       "      <td>0.551066</td>\n",
       "      <td>0.647587</td>\n",
       "    </tr>\n",
       "    <tr>\n",
       "      <th>1</th>\n",
       "      <td>38.0</td>\n",
       "      <td>1</td>\n",
       "      <td>0</td>\n",
       "      <td>71.2833</td>\n",
       "      <td>Y</td>\n",
       "      <td>0.190797</td>\n",
       "      <td>0.242424</td>\n",
       "      <td>0.352413</td>\n",
       "    </tr>\n",
       "    <tr>\n",
       "      <th>2</th>\n",
       "      <td>26.0</td>\n",
       "      <td>0</td>\n",
       "      <td>0</td>\n",
       "      <td>7.9250</td>\n",
       "      <td>Y</td>\n",
       "      <td>0.722783</td>\n",
       "      <td>0.551066</td>\n",
       "      <td>0.352413</td>\n",
       "    </tr>\n",
       "    <tr>\n",
       "      <th>3</th>\n",
       "      <td>35.0</td>\n",
       "      <td>1</td>\n",
       "      <td>0</td>\n",
       "      <td>53.1000</td>\n",
       "      <td>Y</td>\n",
       "      <td>0.722783</td>\n",
       "      <td>0.242424</td>\n",
       "      <td>0.352413</td>\n",
       "    </tr>\n",
       "    <tr>\n",
       "      <th>4</th>\n",
       "      <td>35.0</td>\n",
       "      <td>0</td>\n",
       "      <td>0</td>\n",
       "      <td>8.0500</td>\n",
       "      <td>N</td>\n",
       "      <td>0.722783</td>\n",
       "      <td>0.551066</td>\n",
       "      <td>0.647587</td>\n",
       "    </tr>\n",
       "    <tr>\n",
       "      <th>...</th>\n",
       "      <td>...</td>\n",
       "      <td>...</td>\n",
       "      <td>...</td>\n",
       "      <td>...</td>\n",
       "      <td>...</td>\n",
       "      <td>...</td>\n",
       "      <td>...</td>\n",
       "      <td>...</td>\n",
       "    </tr>\n",
       "    <tr>\n",
       "      <th>886</th>\n",
       "      <td>27.0</td>\n",
       "      <td>0</td>\n",
       "      <td>0</td>\n",
       "      <td>13.0000</td>\n",
       "      <td>N</td>\n",
       "      <td>0.722783</td>\n",
       "      <td>0.206510</td>\n",
       "      <td>0.647587</td>\n",
       "    </tr>\n",
       "    <tr>\n",
       "      <th>887</th>\n",
       "      <td>19.0</td>\n",
       "      <td>0</td>\n",
       "      <td>0</td>\n",
       "      <td>30.0000</td>\n",
       "      <td>Y</td>\n",
       "      <td>0.722783</td>\n",
       "      <td>0.242424</td>\n",
       "      <td>0.352413</td>\n",
       "    </tr>\n",
       "    <tr>\n",
       "      <th>888</th>\n",
       "      <td>27.0</td>\n",
       "      <td>1</td>\n",
       "      <td>2</td>\n",
       "      <td>23.4500</td>\n",
       "      <td>N</td>\n",
       "      <td>0.722783</td>\n",
       "      <td>0.551066</td>\n",
       "      <td>0.352413</td>\n",
       "    </tr>\n",
       "    <tr>\n",
       "      <th>889</th>\n",
       "      <td>26.0</td>\n",
       "      <td>0</td>\n",
       "      <td>0</td>\n",
       "      <td>30.0000</td>\n",
       "      <td>Y</td>\n",
       "      <td>0.190797</td>\n",
       "      <td>0.242424</td>\n",
       "      <td>0.647587</td>\n",
       "    </tr>\n",
       "    <tr>\n",
       "      <th>890</th>\n",
       "      <td>32.0</td>\n",
       "      <td>0</td>\n",
       "      <td>0</td>\n",
       "      <td>7.7500</td>\n",
       "      <td>N</td>\n",
       "      <td>0.086420</td>\n",
       "      <td>0.551066</td>\n",
       "      <td>0.647587</td>\n",
       "    </tr>\n",
       "  </tbody>\n",
       "</table>\n",
       "<p>891 rows × 8 columns</p>\n",
       "</div>"
      ],
      "text/plain": [
       "      Age  SibSp  Parch     Fare passenger_survived  Embarked_FE  \\\n",
       "0    22.0      1      0   7.2500                  N     0.722783   \n",
       "1    38.0      1      0  71.2833                  Y     0.190797   \n",
       "2    26.0      0      0   7.9250                  Y     0.722783   \n",
       "3    35.0      1      0  53.1000                  Y     0.722783   \n",
       "4    35.0      0      0   8.0500                  N     0.722783   \n",
       "..    ...    ...    ...      ...                ...          ...   \n",
       "886  27.0      0      0  13.0000                  N     0.722783   \n",
       "887  19.0      0      0  30.0000                  Y     0.722783   \n",
       "888  27.0      1      2  23.4500                  N     0.722783   \n",
       "889  26.0      0      0  30.0000                  Y     0.190797   \n",
       "890  32.0      0      0   7.7500                  N     0.086420   \n",
       "\n",
       "     passenger_class_FE  passenger_sex_FE  \n",
       "0              0.551066          0.647587  \n",
       "1              0.242424          0.352413  \n",
       "2              0.551066          0.352413  \n",
       "3              0.242424          0.352413  \n",
       "4              0.551066          0.647587  \n",
       "..                  ...               ...  \n",
       "886            0.206510          0.647587  \n",
       "887            0.242424          0.352413  \n",
       "888            0.551066          0.352413  \n",
       "889            0.242424          0.647587  \n",
       "890            0.551066          0.647587  \n",
       "\n",
       "[891 rows x 8 columns]"
      ]
     },
     "execution_count": 16,
     "metadata": {},
     "output_type": "execute_result"
    }
   ],
   "source": [
    "DataFE = DataFE.drop([\"Embarked\",\"passenger_class\",\"passenger_sex\"], axis=1)\n",
    "DataFE"
   ]
  },
  {
   "cell_type": "markdown",
   "id": "interesting-queens",
   "metadata": {},
   "source": [
    "<font color=blue>**1.2.3.Tratamiento Outliers** "
   ]
  },
  {
   "cell_type": "code",
   "execution_count": 17,
   "id": "martial-permit",
   "metadata": {},
   "outputs": [
    {
     "data": {
      "text/plain": [
       "<AxesSubplot:xlabel='Age'>"
      ]
     },
     "execution_count": 17,
     "metadata": {},
     "output_type": "execute_result"
    },
    {
     "data": {
      "image/png": "[encoded data removed]",
      "text/plain": [
       "<Figure size 432x288 with 1 Axes>"
      ]
     },
     "metadata": {},
     "output_type": "display_data"
    }
   ],
   "source": [
    "sns.boxplot(data=DataFE,x=DataFE[\"Age\"])"
   ]
  },
  {
   "cell_type": "code",
   "execution_count": 18,
   "id": "toxic-semester",
   "metadata": {},
   "outputs": [
    {
     "data": {
      "text/plain": [
       "<AxesSubplot:xlabel='Age'>"
      ]
     },
     "execution_count": 18,
     "metadata": {},
     "output_type": "execute_result"
    },
    {
     "data": {
      "image/png": "[encoded data removed]",
      "text/plain": [
       "<Figure size 432x288 with 1 Axes>"
      ]
     },
     "metadata": {},
     "output_type": "display_data"
    }
   ],
   "source": [
    "IQR = DataFE[\"Age\"].quantile(0.75)-DataFE[\"Age\"].quantile(0.25)\n",
    "LS  = round(st.mean(DataFE[\"Age\"]) + 1.75*IQR)\n",
    "LI  = round(st.mean(DataFE[\"Age\"]) - 1.75*IQR)\n",
    "\n",
    "DataFE[\"Age\"] = np.where(DataFE[\"Age\"] >= LS, LS, np.where(DataFE[\"Age\"] <= LI, LI, DataFE[\"Age\"])) \n",
    "\n",
    "sns.boxplot(data=DataFE,x=DataFE[\"Age\"])"
   ]
  },
  {
   "cell_type": "code",
   "execution_count": 19,
   "id": "legitimate-vision",
   "metadata": {},
   "outputs": [
    {
     "data": {
      "text/plain": [
       "<AxesSubplot:xlabel='Fare'>"
      ]
     },
     "execution_count": 19,
     "metadata": {},
     "output_type": "execute_result"
    },
    {
     "data": {
      "image/png": "[encoded data removed]",
      "text/plain": [
       "<Figure size 432x288 with 1 Axes>"
      ]
     },
     "metadata": {},
     "output_type": "display_data"
    }
   ],
   "source": [
    "sns.boxplot(data=DataFE,x=DataFE[\"Fare\"])"
   ]
  },
  {
   "cell_type": "code",
   "execution_count": 20,
   "id": "exotic-clause",
   "metadata": {},
   "outputs": [
    {
     "name": "stdout",
     "output_type": "stream",
     "text": [
      "72.61100796857464 -8.202592031425368\n"
     ]
    },
    {
     "data": {
      "text/plain": [
       "<AxesSubplot:xlabel='Fare'>"
      ]
     },
     "execution_count": 20,
     "metadata": {},
     "output_type": "execute_result"
    },
    {
     "data": {
      "image/png": "[encoded data removed]",
      "text/plain": [
       "<Figure size 432x288 with 1 Axes>"
      ]
     },
     "metadata": {},
     "output_type": "display_data"
    }
   ],
   "source": [
    "IQR2 = DataFE[\"Fare\"].quantile(0.75)-DataFE[\"Fare\"].quantile(0.25)\n",
    "LS2  = st.mean(DataFE[\"Fare\"]) + 1.75*IQR2\n",
    "LI2  = st.mean(DataFE[\"Fare\"]) - 1.75*IQR2\n",
    "print(LS2,LI2)\n",
    "DataFE[\"Fare\"] = np.where(DataFE[\"Fare\"] >= LS2, LS2, np.where(DataFE[\"Fare\"] <= LI2, LI2, DataFE[\"Fare\"])) \n",
    "\n",
    "sns.boxplot(data=DataFE, x = DataFE[\"Fare\"])"
   ]
  },
  {
   "cell_type": "code",
   "execution_count": 21,
   "id": "successful-filling",
   "metadata": {},
   "outputs": [
    {
     "data": {
      "text/plain": [
       "<AxesSubplot:xlabel='SibSp'>"
      ]
     },
     "execution_count": 21,
     "metadata": {},
     "output_type": "execute_result"
    },
    {
     "data": {
      "image/png": "[encoded data removed]",
      "text/plain": [
       "<Figure size 432x288 with 1 Axes>"
      ]
     },
     "metadata": {},
     "output_type": "display_data"
    }
   ],
   "source": [
    "sns.boxplot(data=DataFE,x=DataFE[\"SibSp\"])"
   ]
  },
  {
   "cell_type": "code",
   "execution_count": 22,
   "id": "first-report",
   "metadata": {},
   "outputs": [
    {
     "data": {
      "text/plain": [
       "<AxesSubplot:xlabel='Parch'>"
      ]
     },
     "execution_count": 22,
     "metadata": {},
     "output_type": "execute_result"
    },
    {
     "data": {
      "image/png": "[encoded data removed]",
      "text/plain": [
       "<Figure size 432x288 with 1 Axes>"
      ]
     },
     "metadata": {},
     "output_type": "display_data"
    }
   ],
   "source": [
    "sns.boxplot(data=DataFE,x=DataFE[\"Parch\"])"
   ]
  },
  {
   "cell_type": "markdown",
   "id": "voluntary-pleasure",
   "metadata": {},
   "source": [
    "<font color=blue>**1.2.4. Transformacion de Variables** "
   ]
  },
  {
   "cell_type": "code",
   "execution_count": 23,
   "id": "magnetic-frost",
   "metadata": {},
   "outputs": [],
   "source": [
    "import statsmodels.api as sm\n",
    "import pylab as py\n",
    "from sklearn.preprocessing import PowerTransformer"
   ]
  },
  {
   "cell_type": "code",
   "execution_count": 24,
   "id": "noticed-response",
   "metadata": {},
   "outputs": [],
   "source": [
    "#sm.qqplot(DataFE[\"Fare\"], line ='45')"
   ]
  },
  {
   "cell_type": "code",
   "execution_count": 25,
   "id": "effective-american",
   "metadata": {},
   "outputs": [],
   "source": [
    "#sm.qqplot(DataFE[\"Age\"], line ='45')"
   ]
  },
  {
   "cell_type": "code",
   "execution_count": 26,
   "id": "exclusive-malaysia",
   "metadata": {},
   "outputs": [
    {
     "data": {
      "text/plain": [
       "array([[-0.49018699,  1.37363642, -0.56025296, ...,  0.61921649,\n",
       "         0.90100771,  0.73769513],\n",
       "       [ 0.613771  ,  1.37363642, -0.56025296, ..., -1.59269893,\n",
       "        -1.02452548, -1.35557354],\n",
       "       [-0.20369443, -0.67984996, -0.56025296, ...,  0.61921649,\n",
       "         0.90100771, -1.35557354],\n",
       "       ...,\n",
       "       [-0.13333226,  1.37363642,  1.84685634, ...,  0.61921649,\n",
       "         0.90100771, -1.35557354],\n",
       "       [-0.20369443, -0.67984996, -0.56025296, ..., -1.59269893,\n",
       "        -1.02452548,  0.73769513],\n",
       "       [ 0.21191811, -0.67984996, -0.56025296, ..., -1.66255323,\n",
       "         0.90100771,  0.73769513]])"
      ]
     },
     "execution_count": 26,
     "metadata": {},
     "output_type": "execute_result"
    }
   ],
   "source": [
    "pt = PowerTransformer(method='yeo-johnson')\n",
    "pt.fit(DataFE.iloc[:,[0,1,2,3,5,6,7]])\n",
    "train_data_trans = pt.transform(DataFE.iloc[:,[0,1,2,3,5,6,7]])\n",
    "train_data_trans"
   ]
  },
  {
   "cell_type": "code",
   "execution_count": 27,
   "id": "sunrise-support",
   "metadata": {},
   "outputs": [],
   "source": [
    "DataFE[\"Age\"] = train_data_trans[:,0]\n",
    "DataFE[\"SibSp\"] = train_data_trans[:,1]\n",
    "DataFE[\"Parch\"] = train_data_trans[:,2]\n",
    "DataFE[\"Fare\"] = train_data_trans[:,3]\n",
    "DataFE[\"Embarked_FE\"] = train_data_trans[:,4]\n",
    "DataFE[\"passenger_class_FE\"] = train_data_trans[:,5]\n",
    "DataFE[\"passenger_sex_FE\"] = train_data_trans[:,6]"
   ]
  },
  {
   "cell_type": "markdown",
   "id": "lined-economics",
   "metadata": {},
   "source": [
    "<font color=blue>**1.2.4. Feature Scaling** "
   ]
  },
  {
   "cell_type": "code",
   "execution_count": 28,
   "id": "humanitarian-hartford",
   "metadata": {},
   "outputs": [
    {
     "data": {
      "text/plain": [
       "<AxesSubplot:ylabel='Density'>"
      ]
     },
     "execution_count": 28,
     "metadata": {},
     "output_type": "execute_result"
    },
    {
     "data": {
      "image/png": "[encoded data removed]",
      "text/plain": [
       "<Figure size 432x288 with 1 Axes>"
      ]
     },
     "metadata": {},
     "output_type": "display_data"
    }
   ],
   "source": [
    "DataFE[[ \"Age\", \"SibSp\",\"Parch\",\"Fare\",\"Embarked_FE\",\"passenger_class_FE\", \"passenger_sex_FE\"]].plot.kde()"
   ]
  },
  {
   "cell_type": "code",
   "execution_count": 29,
   "id": "spoken-anaheim",
   "metadata": {},
   "outputs": [
    {
     "data": {
      "text/plain": [
       "<AxesSubplot:ylabel='Density'>"
      ]
     },
     "execution_count": 29,
     "metadata": {},
     "output_type": "execute_result"
    },
    {
     "data": {
      "image/png": "[encoded data removed]",
      "text/plain": [
       "<Figure size 432x288 with 1 Axes>"
      ]
     },
     "metadata": {},
     "output_type": "display_data"
    }
   ],
   "source": [
    "for col in DataFE.columns:\n",
    "    if col != \"passenger_survived\":\n",
    "        scale = StandardScaler().fit(DataFE[[col]])\n",
    "        DataFE[col] = scale.transform(DataFE[[col]]) \n",
    "            \n",
    "DataFE[[ \"Age\", \"SibSp\",\"Parch\",\"Fare\",\"Embarked_FE\",\"passenger_class_FE\", \"passenger_sex_FE\"]].plot.kde()"
   ]
  },
  {
   "cell_type": "code",
   "execution_count": 30,
   "id": "residential-envelope",
   "metadata": {},
   "outputs": [
    {
     "data": {
      "text/html": [
       "<div>\n",
       "<style scoped>\n",
       "    .dataframe tbody tr th:only-of-type {\n",
       "        vertical-align: middle;\n",
       "    }\n",
       "\n",
       "    .dataframe tbody tr th {\n",
       "        vertical-align: top;\n",
       "    }\n",
       "\n",
       "    .dataframe thead th {\n",
       "        text-align: right;\n",
       "    }\n",
       "</style>\n",
       "<table border=\"1\" class=\"dataframe\">\n",
       "  <thead>\n",
       "    <tr style=\"text-align: right;\">\n",
       "      <th></th>\n",
       "      <th>Age</th>\n",
       "      <th>SibSp</th>\n",
       "      <th>Parch</th>\n",
       "      <th>Fare</th>\n",
       "      <th>passenger_survived</th>\n",
       "      <th>Embarked_FE</th>\n",
       "      <th>passenger_class_FE</th>\n",
       "      <th>passenger_sex_FE</th>\n",
       "    </tr>\n",
       "  </thead>\n",
       "  <tbody>\n",
       "    <tr>\n",
       "      <th>0</th>\n",
       "      <td>-0.490187</td>\n",
       "      <td>1.373636</td>\n",
       "      <td>-0.560253</td>\n",
       "      <td>-0.935486</td>\n",
       "      <td>N</td>\n",
       "      <td>0.619216</td>\n",
       "      <td>0.901008</td>\n",
       "      <td>0.737695</td>\n",
       "    </tr>\n",
       "    <tr>\n",
       "      <th>1</th>\n",
       "      <td>0.613771</td>\n",
       "      <td>1.373636</td>\n",
       "      <td>-0.560253</td>\n",
       "      <td>1.648107</td>\n",
       "      <td>Y</td>\n",
       "      <td>-1.592699</td>\n",
       "      <td>-1.024525</td>\n",
       "      <td>-1.355574</td>\n",
       "    </tr>\n",
       "    <tr>\n",
       "      <th>2</th>\n",
       "      <td>-0.203694</td>\n",
       "      <td>-0.679850</td>\n",
       "      <td>-0.560253</td>\n",
       "      <td>-0.846928</td>\n",
       "      <td>Y</td>\n",
       "      <td>0.619216</td>\n",
       "      <td>0.901008</td>\n",
       "      <td>-1.355574</td>\n",
       "    </tr>\n",
       "    <tr>\n",
       "      <th>3</th>\n",
       "      <td>0.414387</td>\n",
       "      <td>1.373636</td>\n",
       "      <td>-0.560253</td>\n",
       "      <td>1.285889</td>\n",
       "      <td>Y</td>\n",
       "      <td>0.619216</td>\n",
       "      <td>-1.024525</td>\n",
       "      <td>-1.355574</td>\n",
       "    </tr>\n",
       "    <tr>\n",
       "      <th>4</th>\n",
       "      <td>0.414387</td>\n",
       "      <td>-0.679850</td>\n",
       "      <td>-0.560253</td>\n",
       "      <td>-0.831228</td>\n",
       "      <td>N</td>\n",
       "      <td>0.619216</td>\n",
       "      <td>0.901008</td>\n",
       "      <td>0.737695</td>\n",
       "    </tr>\n",
       "    <tr>\n",
       "      <th>...</th>\n",
       "      <td>...</td>\n",
       "      <td>...</td>\n",
       "      <td>...</td>\n",
       "      <td>...</td>\n",
       "      <td>...</td>\n",
       "      <td>...</td>\n",
       "      <td>...</td>\n",
       "      <td>...</td>\n",
       "    </tr>\n",
       "    <tr>\n",
       "      <th>886</th>\n",
       "      <td>-0.133332</td>\n",
       "      <td>-0.679850</td>\n",
       "      <td>-0.560253</td>\n",
       "      <td>-0.332860</td>\n",
       "      <td>N</td>\n",
       "      <td>0.619216</td>\n",
       "      <td>-1.201616</td>\n",
       "      <td>0.737695</td>\n",
       "    </tr>\n",
       "    <tr>\n",
       "      <th>887</th>\n",
       "      <td>-0.711092</td>\n",
       "      <td>-0.679850</td>\n",
       "      <td>-0.560253</td>\n",
       "      <td>0.605100</td>\n",
       "      <td>Y</td>\n",
       "      <td>0.619216</td>\n",
       "      <td>-1.024525</td>\n",
       "      <td>-1.355574</td>\n",
       "    </tr>\n",
       "    <tr>\n",
       "      <th>888</th>\n",
       "      <td>-0.133332</td>\n",
       "      <td>1.373636</td>\n",
       "      <td>1.846856</td>\n",
       "      <td>0.320918</td>\n",
       "      <td>N</td>\n",
       "      <td>0.619216</td>\n",
       "      <td>0.901008</td>\n",
       "      <td>-1.355574</td>\n",
       "    </tr>\n",
       "    <tr>\n",
       "      <th>889</th>\n",
       "      <td>-0.203694</td>\n",
       "      <td>-0.679850</td>\n",
       "      <td>-0.560253</td>\n",
       "      <td>0.605100</td>\n",
       "      <td>Y</td>\n",
       "      <td>-1.592699</td>\n",
       "      <td>-1.024525</td>\n",
       "      <td>0.737695</td>\n",
       "    </tr>\n",
       "    <tr>\n",
       "      <th>890</th>\n",
       "      <td>0.211918</td>\n",
       "      <td>-0.679850</td>\n",
       "      <td>-0.560253</td>\n",
       "      <td>-0.869262</td>\n",
       "      <td>N</td>\n",
       "      <td>-1.662553</td>\n",
       "      <td>0.901008</td>\n",
       "      <td>0.737695</td>\n",
       "    </tr>\n",
       "  </tbody>\n",
       "</table>\n",
       "<p>891 rows × 8 columns</p>\n",
       "</div>"
      ],
      "text/plain": [
       "          Age     SibSp     Parch      Fare passenger_survived  Embarked_FE  \\\n",
       "0   -0.490187  1.373636 -0.560253 -0.935486                  N     0.619216   \n",
       "1    0.613771  1.373636 -0.560253  1.648107                  Y    -1.592699   \n",
       "2   -0.203694 -0.679850 -0.560253 -0.846928                  Y     0.619216   \n",
       "3    0.414387  1.373636 -0.560253  1.285889                  Y     0.619216   \n",
       "4    0.414387 -0.679850 -0.560253 -0.831228                  N     0.619216   \n",
       "..        ...       ...       ...       ...                ...          ...   \n",
       "886 -0.133332 -0.679850 -0.560253 -0.332860                  N     0.619216   \n",
       "887 -0.711092 -0.679850 -0.560253  0.605100                  Y     0.619216   \n",
       "888 -0.133332  1.373636  1.846856  0.320918                  N     0.619216   \n",
       "889 -0.203694 -0.679850 -0.560253  0.605100                  Y    -1.592699   \n",
       "890  0.211918 -0.679850 -0.560253 -0.869262                  N    -1.662553   \n",
       "\n",
       "     passenger_class_FE  passenger_sex_FE  \n",
       "0              0.901008          0.737695  \n",
       "1             -1.024525         -1.355574  \n",
       "2              0.901008         -1.355574  \n",
       "3             -1.024525         -1.355574  \n",
       "4              0.901008          0.737695  \n",
       "..                  ...               ...  \n",
       "886           -1.201616          0.737695  \n",
       "887           -1.024525         -1.355574  \n",
       "888            0.901008         -1.355574  \n",
       "889           -1.024525          0.737695  \n",
       "890            0.901008          0.737695  \n",
       "\n",
       "[891 rows x 8 columns]"
      ]
     },
     "execution_count": 30,
     "metadata": {},
     "output_type": "execute_result"
    }
   ],
   "source": [
    "DataFE"
   ]
  },
  {
   "cell_type": "markdown",
   "id": "veterinary-duncan",
   "metadata": {},
   "source": [
    "<font color=blue>**1.2.5. Correlacion** "
   ]
  },
  {
   "cell_type": "code",
   "execution_count": 31,
   "id": "elementary-payday",
   "metadata": {},
   "outputs": [
    {
     "data": {
      "image/png": "[encoded data removed]",
      "text/plain": [
       "<Figure size 720x720 with 2 Axes>"
      ]
     },
     "metadata": {},
     "output_type": "display_data"
    }
   ],
   "source": [
    "fig2, ax2 = plt.subplots(figsize=(10,10))\n",
    "\n",
    "sns.set_theme(style=\"white\")\n",
    "corr = DataFE.corr()\n",
    "mask = np.triu(np.ones_like(corr, dtype=bool))\n",
    "cmap = sns.diverging_palette(4, 20, as_cmap=True)\n",
    "sns.heatmap(corr,square=True,linewidths=.5, cbar_kws={\"shrink\": .5},annot=True,ax=ax2,mask=mask)\n",
    "ax2.set_xticklabels(ax2.get_xticklabels(), rotation=45,horizontalalignment='right');"
   ]
  },
  {
   "cell_type": "markdown",
   "id": "residential-discipline",
   "metadata": {},
   "source": [
    "### <font color=blue>**1.3. Train-val-test split**  "
   ]
  },
  {
   "cell_type": "code",
   "execution_count": 32,
   "id": "atomic-passing",
   "metadata": {},
   "outputs": [],
   "source": [
    "np.random.seed(1234)\n",
    "\n",
    "#SPLIT DE DATOS TRAIN Y TEST\n",
    "X_Train, X_Test, Y_Train, Y_Test = train_test_split(DataFE.iloc[:,[0,1,2,3,5,6,7]], DataFE.iloc[:,[4]], test_size=0.2)\n",
    "#SPLIT DE DATOS VALIDATION\n",
    "X_Train, X_Val, Y_Train, Y_Val = train_test_split(X_Train.iloc[:,[0,1,2,3,4,5,6]], Y_Train.iloc[:,[0]], test_size=0.2)\n",
    "#print(Y_Train.shape)\n",
    "#print(Y_Test.shape)\n",
    "#print(Y_Val.shape)\n",
    "#print(X_Test.iloc[[0,1,2,3,4,5,6,7,8,9],:])"
   ]
  },
  {
   "cell_type": "markdown",
   "id": "occupational-durham",
   "metadata": {},
   "source": [
    "### <font color=blue>**1.4. Ensemble Learning**  "
   ]
  },
  {
   "cell_type": "code",
   "execution_count": 33,
   "id": "reported-brooklyn",
   "metadata": {},
   "outputs": [],
   "source": [
    "import csv\n",
    "from joblib import dump, load\n",
    "\n",
    "def Write_Log(file_name, info):\n",
    "    with open(file_name, 'a+', newline='') as write_obj:\n",
    "        csv_writer = csv.writer(write_obj)\n",
    "        csv_writer.writerow(info)"
   ]
  },
  {
   "cell_type": "markdown",
   "id": "voluntary-apartment",
   "metadata": {},
   "source": [
    "<font color=blue>**1.4.1. Arbol de decisión**"
   ]
  },
  {
   "cell_type": "code",
   "execution_count": 34,
   "id": "primary-complement",
   "metadata": {},
   "outputs": [],
   "source": [
    "from sklearn.tree import DecisionTreeClassifier as DTC\n",
    "from sklearn import metrics"
   ]
  },
  {
   "cell_type": "code",
   "execution_count": 35,
   "id": "bearing-allocation",
   "metadata": {},
   "outputs": [],
   "source": [
    "def Train_ArbolDeDecision(X, Y, criterio = \"entropy\", depth = 20):\n",
    "    tree = DTC(criterion=criterio, splitter = 'best', max_depth= depth)\n",
    "    tree.fit(X, Y.values.ravel())\n",
    "    pred = tree.predict(X)\n",
    "    \n",
    "    precision = \"{:0.2f}\".format(metrics.precision_score(Y, pred,pos_label='Y'))\n",
    "    recall = \"{:0.2f}\".format(metrics.recall_score(Y, pred,pos_label='Y'))\n",
    "    f1 = \"{:0.2f}\".format(metrics.f1_score(Y, pred,pos_label='Y'))\n",
    "    accuracy =  \"{:0.2f}\".format(metrics.accuracy_score(Y, pred))\n",
    "    info =\"DTC_\"+ \"Criterio=\"+criterio+\"_Depth=\"+str(depth)+\"_Variables=\"+ str(X.columns.values).replace('\\n', '').replace('\\r', '') +\"_P=\"+precision+\"_C=\"+recall+\"_F1=\"+f1+\"_A=\"+accuracy\n",
    "    \n",
    "    Write_Log(\"Bitacora_Experimentos.csv\",[info])\n",
    "    dump(tree, info+ \".joblib\") \n",
    "    \n",
    "    print(info)\n",
    "    print(\"Precision:\",precision)\n",
    "    print(\"Recall:\",recall)\n",
    "    print(\"F1:\",f1)\n",
    "    print(\"Accuracy:\",accuracy)\n",
    "    \n",
    "    return tree"
   ]
  },
  {
   "cell_type": "code",
   "execution_count": 36,
   "id": "decimal-triple",
   "metadata": {},
   "outputs": [
    {
     "name": "stdout",
     "output_type": "stream",
     "text": [
      "DTC_Criterio=entropy_Depth=10_Variables=['Age' 'SibSp' 'Parch' 'Fare' 'Embarked_FE' 'passenger_class_FE' 'passenger_sex_FE']_P=0.98_C=0.82_F1=0.89_A=0.93\n",
      "Precision: 0.98\n",
      "Recall: 0.82\n",
      "F1: 0.89\n",
      "Accuracy: 0.93\n"
     ]
    }
   ],
   "source": [
    "modeloAD1 = Train_ArbolDeDecision(X_Train, Y_Train,\"entropy\",10)"
   ]
  },
  {
   "cell_type": "code",
   "execution_count": 37,
   "id": "thousand-michigan",
   "metadata": {},
   "outputs": [
    {
     "name": "stdout",
     "output_type": "stream",
     "text": [
      "DTC_Criterio=gini_Depth=10_Variables=['Age' 'SibSp' 'Parch' 'Fare' 'Embarked_FE' 'passenger_class_FE' 'passenger_sex_FE']_P=0.99_C=0.86_F1=0.92_A=0.95\n",
      "Precision: 0.99\n",
      "Recall: 0.86\n",
      "F1: 0.92\n",
      "Accuracy: 0.95\n"
     ]
    }
   ],
   "source": [
    "modeloAD2 = Train_ArbolDeDecision(X_Train, Y_Train,\"gini\",10)"
   ]
  },
  {
   "cell_type": "code",
   "execution_count": 38,
   "id": "invalid-settle",
   "metadata": {},
   "outputs": [
    {
     "name": "stdout",
     "output_type": "stream",
     "text": [
      "DTC_Criterio=gini_Depth=20_Variables=['Age' 'SibSp' 'Parch' 'Fare' 'Embarked_FE' 'passenger_class_FE' 'passenger_sex_FE']_P=1.00_C=0.97_F1=0.99_A=0.99\n",
      "Precision: 1.00\n",
      "Recall: 0.97\n",
      "F1: 0.99\n",
      "Accuracy: 0.99\n"
     ]
    }
   ],
   "source": [
    "modeloAD3 = Train_ArbolDeDecision(X_Train, Y_Train,\"gini\",20)"
   ]
  },
  {
   "cell_type": "code",
   "execution_count": 39,
   "id": "atomic-banana",
   "metadata": {},
   "outputs": [
    {
     "name": "stdout",
     "output_type": "stream",
     "text": [
      "DTC_Criterio=entropy_Depth=20_Variables=['Age' 'SibSp' 'Parch' 'Fare' 'Embarked_FE' 'passenger_class_FE' 'passenger_sex_FE']_P=1.00_C=0.96_F1=0.98_A=0.98\n",
      "Precision: 1.00\n",
      "Recall: 0.96\n",
      "F1: 0.98\n",
      "Accuracy: 0.98\n"
     ]
    }
   ],
   "source": [
    "modeloAD4 = Train_ArbolDeDecision(X_Train, Y_Train,\"entropy\",20)"
   ]
  },
  {
   "cell_type": "markdown",
   "id": "parental-shelter",
   "metadata": {},
   "source": [
    "<font color=blue>**1.4.2. SVM** "
   ]
  },
  {
   "cell_type": "code",
   "execution_count": 40,
   "id": "religious-prophet",
   "metadata": {},
   "outputs": [],
   "source": [
    "from sklearn.svm import SVC"
   ]
  },
  {
   "cell_type": "code",
   "execution_count": 41,
   "id": "fifteen-timeline",
   "metadata": {},
   "outputs": [],
   "source": [
    "def Train_SVM(X, Y, krl = \"rbf\",c = 0.5):\n",
    "    svm_c = SVC(kernel=krl, C= c) \n",
    "    svm_c.fit(X, Y.values.ravel())\n",
    "    pred = svm_c.predict(X)\n",
    "    \n",
    "    precision = \"{:0.2f}\".format(metrics.precision_score(Y, pred,pos_label='Y'))\n",
    "    recall = \"{:0.2f}\".format(metrics.recall_score(Y, pred,pos_label='Y'))\n",
    "    f1 = \"{:0.2f}\".format(metrics.f1_score(Y, pred,pos_label='Y'))\n",
    "    accuracy = \"{:0.2f}\".format(metrics.accuracy_score(Y, pred))\n",
    "    info = \"SVM_\"+\"_Kernel=\"+krl+\"_Gamma=\"+\" \"+\"_Variables=\"+ str(X.columns.values).replace('\\n', '').replace('\\r', '')+\"_P=\"+precision+\"_C=\"+recall+\"_F1=\"+f1+\"_A=\"+accuracy\n",
    "\n",
    "    Write_Log(\"Bitacora_Experimentos.csv\",[info])\n",
    "    dump(svm_c, info+ \".joblib\") \n",
    "    \n",
    "    print(info)\n",
    "    print(\"Precision:\",precision)\n",
    "    print(\"Recall:\",recall)\n",
    "    print(\"F1:\",f1)\n",
    "    print(\"Accuracy:\",accuracy)\n",
    "    \n",
    "    return svm_c"
   ]
  },
  {
   "cell_type": "code",
   "execution_count": 42,
   "id": "verbal-magnet",
   "metadata": {},
   "outputs": [
    {
     "name": "stdout",
     "output_type": "stream",
     "text": [
      "SVM__Kernel=sigmoid_Gamma= _Variables=['Age' 'SibSp' 'Parch' 'Fare' 'Embarked_FE' 'passenger_class_FE' 'passenger_sex_FE']_P=0.55_C=0.51_F1=0.53_A=0.66\n",
      "Precision: 0.55\n",
      "Recall: 0.51\n",
      "F1: 0.53\n",
      "Accuracy: 0.66\n"
     ]
    }
   ],
   "source": [
    "modeloSVM1 = Train_SVM(X_Train, Y_Train,\"sigmoid\",0.9)"
   ]
  },
  {
   "cell_type": "code",
   "execution_count": 43,
   "id": "going-pound",
   "metadata": {},
   "outputs": [
    {
     "name": "stdout",
     "output_type": "stream",
     "text": [
      "SVM__Kernel=linear_Gamma= _Variables=['Age' 'SibSp' 'Parch' 'Fare' 'Embarked_FE' 'passenger_class_FE' 'passenger_sex_FE']_P=0.71_C=0.67_F1=0.69_A=0.77\n",
      "Precision: 0.71\n",
      "Recall: 0.67\n",
      "F1: 0.69\n",
      "Accuracy: 0.77\n"
     ]
    }
   ],
   "source": [
    "modeloSVM2 = Train_SVM(X_Train, Y_Train,\"linear\",0.9)"
   ]
  },
  {
   "cell_type": "code",
   "execution_count": 44,
   "id": "retained-lending",
   "metadata": {},
   "outputs": [
    {
     "name": "stdout",
     "output_type": "stream",
     "text": [
      "SVM__Kernel=rbf_Gamma= _Variables=['Age' 'SibSp' 'Parch' 'Fare' 'Embarked_FE' 'passenger_class_FE' 'passenger_sex_FE']_P=0.93_C=0.64_F1=0.76_A=0.85\n",
      "Precision: 0.93\n",
      "Recall: 0.64\n",
      "F1: 0.76\n",
      "Accuracy: 0.85\n"
     ]
    }
   ],
   "source": [
    "modeloSVM3 = Train_SVM(X_Train, Y_Train,\"rbf\",0.9)"
   ]
  },
  {
   "cell_type": "markdown",
   "id": "stone-injury",
   "metadata": {},
   "source": [
    "<font color=blue>**1.4.3. Naive bayes**"
   ]
  },
  {
   "cell_type": "code",
   "execution_count": 45,
   "id": "mobile-criminal",
   "metadata": {},
   "outputs": [],
   "source": [
    "def Naive_Fit(X,Y):\n",
    "    samples, features = X.shape\n",
    "    y_class = np.unique(Y)\n",
    "    n_class = len(y_class)\n",
    "    \n",
    "    mean = np.array(X.groupby(by=Y).mean())\n",
    "    var = np.array(X.groupby(by=Y).var())\n",
    "    priors = np.array(X.groupby(by=Y).count()/samples)\n",
    "\n",
    "    pred = Naive_Predict(X, mean,var,priors,y_class)\n",
    "    \n",
    "    precision = \"{:0.2f}\".format(metrics.precision_score(Y, pred,pos_label='Y'))\n",
    "    recall = \"{:0.2f}\".format(metrics.recall_score(Y, pred,pos_label='Y'))\n",
    "    f1 = \"{:0.2f}\".format(metrics.f1_score(Y, pred,pos_label='Y'))\n",
    "    accuracy = \"{:0.2f}\".format(metrics.accuracy_score(Y, pred))\n",
    "    info = \"NaiveBayes_\"+\"Variables=\"+ str(X.columns.values).replace('\\n', '').replace('\\r', '')+\"_P=\"+precision+\"_C=\"+recall+\"_F1=\"+f1+\"_A=\"+accuracy\n",
    "   \n",
    "    Write_Log(\"Bitacora_Experimentos.csv\",[info])\n",
    "    dump([mean, var, priors,y_class], info+ \".joblib\") \n",
    "    \n",
    "    print(info)\n",
    "    print(\"Precision:\",precision)\n",
    "    print(\"Recall:\",recall)\n",
    "    print(\"F1:\",f1)\n",
    "    print(\"Accuracy:\",accuracy)\n",
    "       \n",
    "    return (mean, var, priors,y_class)"
   ]
  },
  {
   "cell_type": "code",
   "execution_count": 46,
   "id": "varying-lightning",
   "metadata": {},
   "outputs": [],
   "source": [
    "def Naive_Predict(X, m,v,p,y_class):\n",
    "    Y_Pred = []\n",
    "    for x in np.array(X):\n",
    "        posteriors = []\n",
    "        for idx, c in enumerate(y_class):\n",
    "            prior = np.log(p[idx][0])\n",
    "\n",
    "            numerator = np.exp(-((x - m[idx])**2)/(2 * v[idx]) )\n",
    "            denominator = np.sqrt(2 * np.pi * v[idx])\n",
    "            numl =np.log(numerator/denominator)\n",
    "\n",
    "            posterior = np.sum(numl)\n",
    "            posterior = prior + posterior\n",
    "\n",
    "            posteriors.append(posterior)\n",
    "\n",
    "        Y_Pred.append(y_class[np.argmax(posteriors)])\n",
    "    return np.array(Y_Pred)"
   ]
  },
  {
   "cell_type": "code",
   "execution_count": 47,
   "id": "outdoor-burns",
   "metadata": {},
   "outputs": [
    {
     "name": "stdout",
     "output_type": "stream",
     "text": [
      "NaiveBayes_Variables=['Age' 'SibSp' 'Parch' 'Fare' 'Embarked_FE' 'passenger_class_FE' 'passenger_sex_FE']_P=0.69_C=0.71_F1=0.70_A=0.77\n",
      "Precision: 0.69\n",
      "Recall: 0.71\n",
      "F1: 0.70\n",
      "Accuracy: 0.77\n"
     ]
    }
   ],
   "source": [
    "m,v,p, cla = Naive_Fit(X_Train,Y_Train.passenger_survived)"
   ]
  },
  {
   "cell_type": "code",
   "execution_count": 48,
   "id": "shaped-population",
   "metadata": {},
   "outputs": [],
   "source": [
    "predN = Naive_Predict(X_Train, m,v,p,cla)"
   ]
  },
  {
   "cell_type": "markdown",
   "id": "thousand-advantage",
   "metadata": {},
   "source": [
    "<font color=blue>**1.4.4. Regresión logística (con regularización)**"
   ]
  },
  {
   "cell_type": "code",
   "execution_count": 49,
   "id": "completed-inspector",
   "metadata": {},
   "outputs": [],
   "source": [
    "class ModeloLogistico:\n",
    "  def __init__(self,m,n,b,batch_size):\n",
    "    tf.reset_default_graph()\n",
    "    self.m = tf.constant(m)\n",
    "    self.n = tf.constant(n)\n",
    "    self.bs = tf.constant(batch_size)\n",
    "    self.b = tf.get_variable(\"b\",dtype=tf.float64,shape=[1],initializer=tf.zeros_initializer())\n",
    "    self.parametros = tf.get_variable(\"Parametros\",dtype=tf.float64,shape=[n+1,1],initializer=tf.zeros_initializer())\n",
    "    self.error = tf.get_variable(\"Error\",dtype=tf.float64,shape=[1],initializer=tf.zeros_initializer())\n",
    "    self.pred =  tf.get_variable(\"Y_Hat\",dtype=tf.float64,shape=[batch_size,1],initializer=tf.zeros_initializer())\n",
    "    \n",
    "  def __call__(self,x): \n",
    "    x_1 = tf.ones([self.bs, 1],dtype=tf.float64,name=\"X_Vector_1\")\n",
    "    x = tf.concat([x,x_1], axis=1,name=\"X_Addicion_1\")  \n",
    "    return  tf.add(tf.linalg.matmul(x,self.parametros,name=\"Logit\"),self.b)\n",
    "\n",
    "  def actualizar(self,x,y,learning_rate):\n",
    "    logit = self(x)\n",
    "    y_hat = tf.nn.sigmoid(logit,name=\"Prediccion\") \n",
    "    prediccion = y_hat\n",
    "    \n",
    "    #ERROR MANUAL \n",
    "    sig_error= -(tf.multiply(y,tf.log(y_hat)) +  tf.multiply((1-y),tf.log(1-y_hat)))\n",
    "    sig_error = (1/self.m) * tf.reduce_sum(sig_error)\n",
    "    \n",
    "    #ERROR FUNCION\n",
    "    #sig_error = tf.transpose(tf.nn.sigmoid_cross_entropy_with_logits(logits = logit, labels = y))\n",
    "    error = [sig_error]\n",
    "\n",
    "    #[tf.reduce_mean(y_hat)]\n",
    "    gradiente = tf.gradients(error,self.parametros, name=\"Gradiente\")  \n",
    "    gradiente2 = tf.gradients(error,self.b,name=\"Gradiente_b\")\n",
    "    actualizacion_error = tf.assign(self.error, error)\n",
    "    actualizacion_parametros = tf.assign(self.parametros,self.parametros - tf.multiply(gradiente,learning_rate)[0],name=\"Actualizacion_Parametros\")\n",
    "    actualizacion_pred = tf.assign(self.pred,prediccion)\n",
    "    actualizacion_b = tf.assign(self.b, self.b -tf.multiply(gradiente2,learning_rate)[0],name=\"Actualizacion_b\")\n",
    "\n",
    "    return actualizacion_parametros, actualizacion_error, actualizacion_pred,actualizacion_b\n"
   ]
  },
  {
   "cell_type": "code",
   "execution_count": 50,
   "id": "stupid-labor",
   "metadata": {},
   "outputs": [],
   "source": [
    "def ModeloRegresionLogistica_Train(X,Y,learning_rate,b,batch_size,epochs):  \n",
    "    m, n = X.shape  # tamaño_muestra, #_features\n",
    "    modelo = ModeloLogistico(m,n,b,batch_size)\n",
    "    total_iteraciones =  int(m/batch_size)\n",
    "    \n",
    "    #Definicion Tensores\n",
    "    tensor_x = tf.placeholder(tf.float64,[None,n],\"tensor_x\")\n",
    "    tensor_y = tf.placeholder(tf.float64,[None,1],\"tensor_y\")\n",
    "\n",
    "    #Definicion Modelo\n",
    "    prediccion = modelo(tensor_x)\n",
    "    actualizacion_parametros = modelo.actualizar(tensor_x,tensor_y,learning_rate)\n",
    "\n",
    "    with tf.train.MonitoredSession() as session:\n",
    "        #Tensorboard Grafo\n",
    "        tf.reset_default_graph()   \n",
    "        log_dir = \"logs/RegLog/\"+\"BS-\"+str(batch_size)+\"_\"+\"LR-\"+str(learning_rate)+\"_\"+ datetime.datetime.now().strftime(\"%Y%m%d-%H%M%S\")\n",
    "        Grafo = tf.summary.FileWriter(log_dir, session.graph)\n",
    "      \n",
    "        parametros_epoch, costo_epoch, b_epoch, pred_epoch = [], [100],[],[]\n",
    "        for epoch in range(epochs):  \n",
    "            #print(\"EPOCH \"+ str(epoch))            \n",
    "            parametros_iteracion, costo_iteracion, b_iteracion, pred_iteracion = [], [100],[],[]\n",
    "            for i in range(total_iteraciones):    \n",
    "                #print(\"ITERACION  \"+ str(i))\n",
    "                muestra_inicio = i*batch_size\n",
    "                muestra_fin = muestra_inicio + batch_size\n",
    "\n",
    "                x_parametros =  np.array(X[muestra_inicio:muestra_fin])\n",
    "                y_parametros = np.array(Y[muestra_inicio:muestra_fin])             \n",
    "                feed_dict = {tensor_x:x_parametros, tensor_y:y_parametros}\n",
    "                _,parametros,e,p,b = session.run([actualizacion_parametros,modelo.parametros,modelo.error,modelo.pred,modelo.b],feed_dict=feed_dict)  \n",
    "                if(e<costo_iteracion):\n",
    "                    costo_iteracion = e\n",
    "                    parametros_iteracion = parametros\n",
    "                    b_iteracion = b\n",
    "                    pred_iteracion= p\n",
    "                    \n",
    "                \n",
    "                summary = tf.Summary(value=[tf.Summary.Value(tag=\"Error\", simple_value=e[0])])\n",
    "                Grafo.add_summary(summary, epoch)\n",
    "            \n",
    "            if(costo_iteracion<costo_epoch):\n",
    "                costo_epoch = costo_iteracion\n",
    "                parametros_epoch = parametros_iteracion\n",
    "                b_epoch = b_iteracion\n",
    "                pred_epoch = pred_iteracion\n",
    "                \n",
    "            feed_dict = {tensor_x:X, tensor_y:Y}\n",
    "\n",
    "        PendienteInter_final = session.run([modelo.parametros],feed_dict=feed_dict)\n",
    "        Grafo.close()\n",
    "    \n",
    "    info =\"RL_\"+ \"lr=\"+ str(learning_rate) + \"batch=\"+ str(batch_size) + \"epoch=\"+ str(epochs) \n",
    "    Write_Log(\"Bitacora_Experimentos.csv\",[info])\n",
    "    dump([parametros_epoch, b_epoch], info+ \".joblib\") \n",
    "    \n",
    "    print(\"Analisis Finalizado\")\n",
    "    return costo_epoch,parametros_epoch, b_epoch"
   ]
  },
  {
   "cell_type": "code",
   "execution_count": 51,
   "id": "consecutive-desperate",
   "metadata": {},
   "outputs": [],
   "source": [
    "def ModeloRegresionLogistica_Predict(X,b,parametros):\n",
    "    Matriz = np.asmatrix(np.column_stack((X,np.ones_like(X))))\n",
    "    m,n = X.shape\n",
    "    x_1 = np.ones([m, 1])\n",
    "    x = np.column_stack([X,x_1])  \n",
    "\n",
    "    logits = np.add(np.matmul(x,parametros), b)\n",
    "    yhat = 1/(1 + np.exp(-logits)) \n",
    "\n",
    "    yhat = np.where(yhat>0.5,\"Y\",\"N\")\n",
    "    return yhat\n"
   ]
  },
  {
   "cell_type": "code",
   "execution_count": 52,
   "id": "corrected-button",
   "metadata": {},
   "outputs": [],
   "source": [
    "X = X_Train.to_numpy()\n",
    "Y = np.where(Y_Train.passenger_survived == 'Y', 1, 0).reshape([-1,1])"
   ]
  },
  {
   "cell_type": "code",
   "execution_count": 53,
   "id": "indie-announcement",
   "metadata": {},
   "outputs": [
    {
     "name": "stdout",
     "output_type": "stream",
     "text": [
      "INFO:tensorflow:Graph was finalized.\n",
      "INFO:tensorflow:Running local_init_op.\n",
      "INFO:tensorflow:Done running local_init_op.\n",
      "Analisis Finalizado\n"
     ]
    }
   ],
   "source": [
    "c1,p1,b1 = ModeloRegresionLogistica_Train(X,Y,0.0001,1,10,1)"
   ]
  },
  {
   "cell_type": "code",
   "execution_count": 54,
   "id": "external-relationship",
   "metadata": {},
   "outputs": [
    {
     "name": "stdout",
     "output_type": "stream",
     "text": [
      "INFO:tensorflow:Graph was finalized.\n",
      "INFO:tensorflow:Running local_init_op.\n",
      "INFO:tensorflow:Done running local_init_op.\n",
      "Analisis Finalizado\n"
     ]
    }
   ],
   "source": [
    "c1,p1,b1 = ModeloRegresionLogistica_Train(X,Y,0.0001,1,100,2)"
   ]
  },
  {
   "cell_type": "code",
   "execution_count": 55,
   "id": "prospective-speed",
   "metadata": {},
   "outputs": [
    {
     "name": "stdout",
     "output_type": "stream",
     "text": [
      "INFO:tensorflow:Graph was finalized.\n",
      "INFO:tensorflow:Running local_init_op.\n",
      "INFO:tensorflow:Done running local_init_op.\n",
      "Analisis Finalizado\n"
     ]
    }
   ],
   "source": [
    "c1,p1,b1 = ModeloRegresionLogistica_Train(X,Y,0.0001,1,300,5)"
   ]
  },
  {
   "cell_type": "code",
   "execution_count": 56,
   "id": "exposed-motel",
   "metadata": {},
   "outputs": [
    {
     "name": "stdout",
     "output_type": "stream",
     "text": [
      "Precision: 0.74\n",
      "Recall: 0.59\n",
      "F1: 0.66\n",
      "Accuracy: 0.77\n"
     ]
    }
   ],
   "source": [
    "pred = ModeloRegresionLogistica_Predict(X_Train,b1,p1)\n",
    "precision = \"{:0.2f}\".format(metrics.precision_score(Y_Train, pred,pos_label='Y'))\n",
    "recall = \"{:0.2f}\".format(metrics.recall_score(Y_Train, pred,pos_label='Y'))\n",
    "f1 = \"{:0.2f}\".format(metrics.f1_score(Y_Train, pred,pos_label='Y'))\n",
    "accuracy =  \"{:0.2f}\".format(metrics.accuracy_score(Y_Train, pred))\n",
    "\n",
    "print(\"Precision:\",precision)\n",
    "print(\"Recall:\",recall)\n",
    "print(\"F1:\",f1)\n",
    "print(\"Accuracy:\",accuracy)"
   ]
  },
  {
   "cell_type": "code",
   "execution_count": 57,
   "id": "backed-wrong",
   "metadata": {},
   "outputs": [],
   "source": [
    "from sklearn.linear_model import LogisticRegression as LR\n",
    "\n",
    "def Train_RegLogistica(X, Y, c = 0.01, s = 'liblinear', rs=100):\n",
    "    regl = LR(C=c, solver=s,random_state=rs)\n",
    "    regl.fit(X, Y.values.ravel())\n",
    "    pred = regl.predict(X)\n",
    "    \n",
    "    precision = \"{:0.2f}\".format(metrics.precision_score(Y, pred,pos_label='Y'))\n",
    "    recall = \"{:0.2f}\".format(metrics.recall_score(Y, pred,pos_label='Y'))\n",
    "    f1 = \"{:0.2f}\".format(metrics.f1_score(Y, pred,pos_label='Y'))\n",
    "    accuracy =  \"{:0.2f}\".format(metrics.accuracy_score(Y, pred))\n",
    "    info =\"RL_\"+ \"Regularizacion=\"+str(c)+\"_Solver=\"+s+\"_Variables=\"+ str(X.columns.values).replace('\\n', '').replace('\\r', '') +\"_P=\"+precision+\"_C=\"+recall+\"_F1=\"+f1+\"_A=\"+accuracy\n",
    "    \n",
    "    Write_Log(\"Bitacora_Experimentos.csv\",[info])\n",
    "    dump(regl, info+ \".joblib\") \n",
    "    \n",
    "    print(info)\n",
    "    print(\"Precision:\",precision)\n",
    "    print(\"Recall:\",recall)\n",
    "    print(\"F1:\",f1)\n",
    "    print(\"Accuracy:\",accuracy)\n",
    "    \n",
    "    return regl"
   ]
  },
  {
   "cell_type": "code",
   "execution_count": 58,
   "id": "cosmetic-crime",
   "metadata": {},
   "outputs": [
    {
     "name": "stdout",
     "output_type": "stream",
     "text": [
      "RL_Regularizacion=0.01_Solver=liblinear_Variables=['Age' 'SibSp' 'Parch' 'Fare' 'Embarked_FE' 'passenger_class_FE' 'passenger_sex_FE']_P=0.74_C=0.66_F1=0.70_A=0.79\n",
      "Precision: 0.74\n",
      "Recall: 0.66\n",
      "F1: 0.70\n",
      "Accuracy: 0.79\n"
     ]
    }
   ],
   "source": [
    "modeloSRL1 = Train_RegLogistica(X_Train, Y_Train,0.01,\"liblinear\",0)"
   ]
  },
  {
   "cell_type": "code",
   "execution_count": 59,
   "id": "southwest-venue",
   "metadata": {},
   "outputs": [
    {
     "name": "stdout",
     "output_type": "stream",
     "text": [
      "RL_Regularizacion=0.5_Solver=saga_Variables=['Age' 'SibSp' 'Parch' 'Fare' 'Embarked_FE' 'passenger_class_FE' 'passenger_sex_FE']_P=0.75_C=0.66_F1=0.70_A=0.79\n",
      "Precision: 0.75\n",
      "Recall: 0.66\n",
      "F1: 0.70\n",
      "Accuracy: 0.79\n"
     ]
    }
   ],
   "source": [
    "modeloSRL2 = Train_RegLogistica(X_Train, Y_Train,0.5,\"saga\",0)"
   ]
  },
  {
   "cell_type": "code",
   "execution_count": 60,
   "id": "domestic-brave",
   "metadata": {},
   "outputs": [
    {
     "name": "stdout",
     "output_type": "stream",
     "text": [
      "RL_Regularizacion=0.5_Solver=liblinear_Variables=['Age' 'SibSp' 'Parch' 'Fare' 'Embarked_FE' 'passenger_class_FE' 'passenger_sex_FE']_P=0.75_C=0.67_F1=0.71_A=0.79\n",
      "Precision: 0.75\n",
      "Recall: 0.67\n",
      "F1: 0.71\n",
      "Accuracy: 0.79\n"
     ]
    }
   ],
   "source": [
    "modeloSRL3 = Train_RegLogistica(X_Train, Y_Train,0.5,\"liblinear\",200)"
   ]
  },
  {
   "cell_type": "markdown",
   "id": "special-smart",
   "metadata": {},
   "source": [
    "<font color=blue>**1.4.5. k-fold cross validation**"
   ]
  },
  {
   "cell_type": "markdown",
   "id": "tough-southeast",
   "metadata": {},
   "source": [
    "La validacion cruzada o Cross validation, puede ser usada para validar la capacidad de prediccion de un modelo, ya que al momento de realizar el entrenamiento el error y metricas calculadas se basan en datos que el modelo ya ha visto lo cual puede que no represente el mismo performance (estimacion realista) cuando se sometan datos nunca antes evaluados.\n",
    "\n",
    "K-Fold es un tipo de validacion que nos permite evaluar la capacidad de prediccion de nuestro modelo, es un proceso iterativo que divide los datos de forma aleatoria en k grupos, de los cuales k-1 grupos se emplean para entrenar el modelo y uno de los grupos se emplea como validación, promediando las estimaciones del error para obtenr el resultado deseado."
   ]
  },
  {
   "cell_type": "markdown",
   "id": "likely-harassment",
   "metadata": {},
   "source": [
    "<font color=blue>**1.4.6. Prueba/Evaluación final**\n",
    "    \n",
    "Dada el conjunto de observaciones X de el conjunto de pruebas y los 4 modelos elegidos: \n",
    "- Predecir sobre estas usando el mejor modelo de cada tipo elegido en el punto anterior. \n",
    "- Combinar los resultados de las predicciones en una predicción final(moda de resultados individuales) \n",
    "- Generar una tabla de predicciones como el ejemplo x y crear un dataframe de Pandas con los resultados. \n",
    "- Calcular métricas de evaluación comparando los Y reales del conjunto de pruebas, contra él Y que se obtuvo de combinar las predicciones individuales del modelo. \n",
    "- Similar al paso anterior, generar una tabla de métricas de evaluación y crear un dataframe de pandas para mostrar el resultado final. \n",
    "*Si en la evaluación final, no se obtiene la exactitud mínima deseada, volver a la fase de experimentación . "
   ]
  },
  {
   "cell_type": "code",
   "execution_count": 61,
   "id": "moral-psychiatry",
   "metadata": {},
   "outputs": [],
   "source": [
    "#ArbolDeDecision\n",
    "ad_t = modeloAD4.predict(X_Test)"
   ]
  },
  {
   "cell_type": "code",
   "execution_count": 62,
   "id": "turkish-miniature",
   "metadata": {},
   "outputs": [],
   "source": [
    "#SVM\n",
    "sv_t = modeloSVM3.predict(X_Test)"
   ]
  },
  {
   "cell_type": "code",
   "execution_count": 63,
   "id": "increasing-supervision",
   "metadata": {},
   "outputs": [],
   "source": [
    "#Naive\n",
    "n_t = Naive_Predict(X_Test, m,v,p,cla)"
   ]
  },
  {
   "cell_type": "code",
   "execution_count": 64,
   "id": "recorded-uruguay",
   "metadata": {},
   "outputs": [],
   "source": [
    "#Regresion Logistica\n",
    "rlm_t = ModeloRegresionLogistica_Predict(X_Test,b1,p1)"
   ]
  },
  {
   "cell_type": "code",
   "execution_count": 65,
   "id": "marine-latin",
   "metadata": {},
   "outputs": [],
   "source": [
    "#Regresion Logistica\n",
    "rl_t = modeloSRL3.predict(X_Test)"
   ]
  },
  {
   "cell_type": "code",
   "execution_count": 66,
   "id": "russian-rescue",
   "metadata": {},
   "outputs": [
    {
     "data": {
      "text/html": [
       "<div>\n",
       "<style scoped>\n",
       "    .dataframe tbody tr th:only-of-type {\n",
       "        vertical-align: middle;\n",
       "    }\n",
       "\n",
       "    .dataframe tbody tr th {\n",
       "        vertical-align: top;\n",
       "    }\n",
       "\n",
       "    .dataframe thead th {\n",
       "        text-align: right;\n",
       "    }\n",
       "</style>\n",
       "<table border=\"1\" class=\"dataframe\">\n",
       "  <thead>\n",
       "    <tr style=\"text-align: right;\">\n",
       "      <th></th>\n",
       "      <th>Arbol</th>\n",
       "      <th>SVM</th>\n",
       "      <th>Naive</th>\n",
       "      <th>RL</th>\n",
       "      <th>Regresion</th>\n",
       "    </tr>\n",
       "  </thead>\n",
       "  <tbody>\n",
       "    <tr>\n",
       "      <th>0</th>\n",
       "      <td>Y</td>\n",
       "      <td>Y</td>\n",
       "      <td>Y</td>\n",
       "      <td>Y</td>\n",
       "      <td>Y</td>\n",
       "    </tr>\n",
       "    <tr>\n",
       "      <th>1</th>\n",
       "      <td>Y</td>\n",
       "      <td>N</td>\n",
       "      <td>N</td>\n",
       "      <td>N</td>\n",
       "      <td>N</td>\n",
       "    </tr>\n",
       "    <tr>\n",
       "      <th>2</th>\n",
       "      <td>N</td>\n",
       "      <td>N</td>\n",
       "      <td>N</td>\n",
       "      <td>N</td>\n",
       "      <td>N</td>\n",
       "    </tr>\n",
       "    <tr>\n",
       "      <th>3</th>\n",
       "      <td>Y</td>\n",
       "      <td>Y</td>\n",
       "      <td>Y</td>\n",
       "      <td>Y</td>\n",
       "      <td>Y</td>\n",
       "    </tr>\n",
       "    <tr>\n",
       "      <th>4</th>\n",
       "      <td>N</td>\n",
       "      <td>N</td>\n",
       "      <td>N</td>\n",
       "      <td>N</td>\n",
       "      <td>Y</td>\n",
       "    </tr>\n",
       "    <tr>\n",
       "      <th>...</th>\n",
       "      <td>...</td>\n",
       "      <td>...</td>\n",
       "      <td>...</td>\n",
       "      <td>...</td>\n",
       "      <td>...</td>\n",
       "    </tr>\n",
       "    <tr>\n",
       "      <th>174</th>\n",
       "      <td>Y</td>\n",
       "      <td>N</td>\n",
       "      <td>N</td>\n",
       "      <td>N</td>\n",
       "      <td>N</td>\n",
       "    </tr>\n",
       "    <tr>\n",
       "      <th>175</th>\n",
       "      <td>N</td>\n",
       "      <td>N</td>\n",
       "      <td>N</td>\n",
       "      <td>N</td>\n",
       "      <td>N</td>\n",
       "    </tr>\n",
       "    <tr>\n",
       "      <th>176</th>\n",
       "      <td>N</td>\n",
       "      <td>N</td>\n",
       "      <td>N</td>\n",
       "      <td>N</td>\n",
       "      <td>N</td>\n",
       "    </tr>\n",
       "    <tr>\n",
       "      <th>177</th>\n",
       "      <td>N</td>\n",
       "      <td>N</td>\n",
       "      <td>N</td>\n",
       "      <td>N</td>\n",
       "      <td>N</td>\n",
       "    </tr>\n",
       "    <tr>\n",
       "      <th>178</th>\n",
       "      <td>N</td>\n",
       "      <td>N</td>\n",
       "      <td>N</td>\n",
       "      <td>N</td>\n",
       "      <td>N</td>\n",
       "    </tr>\n",
       "  </tbody>\n",
       "</table>\n",
       "<p>179 rows × 5 columns</p>\n",
       "</div>"
      ],
      "text/plain": [
       "    Arbol SVM Naive RL Regresion\n",
       "0       Y   Y     Y  Y         Y\n",
       "1       Y   N     N  N         N\n",
       "2       N   N     N  N         N\n",
       "3       Y   Y     Y  Y         Y\n",
       "4       N   N     N  N         Y\n",
       "..    ...  ..   ... ..       ...\n",
       "174     Y   N     N  N         N\n",
       "175     N   N     N  N         N\n",
       "176     N   N     N  N         N\n",
       "177     N   N     N  N         N\n",
       "178     N   N     N  N         N\n",
       "\n",
       "[179 rows x 5 columns]"
      ]
     },
     "execution_count": 66,
     "metadata": {},
     "output_type": "execute_result"
    }
   ],
   "source": [
    "final_m = pd.DataFrame({'Arbol': ad_t,\n",
    "                      'SVM': sv_t,\n",
    "                      'Naive': n_t,\n",
    "                      'RL': rlm_t[:,0],\n",
    "                      'Regresion': rl_t\n",
    "                     })\n",
    "final_m"
   ]
  },
  {
   "cell_type": "code",
   "execution_count": 67,
   "id": "induced-failure",
   "metadata": {},
   "outputs": [],
   "source": [
    "final_moda = final_m.mode(axis=1)\n",
    "Y_hat = pd.DataFrame({'Y_Moda': final_moda[0]})"
   ]
  },
  {
   "cell_type": "code",
   "execution_count": 68,
   "id": "beautiful-flight",
   "metadata": {},
   "outputs": [
    {
     "data": {
      "text/html": [
       "<div>\n",
       "<style scoped>\n",
       "    .dataframe tbody tr th:only-of-type {\n",
       "        vertical-align: middle;\n",
       "    }\n",
       "\n",
       "    .dataframe tbody tr th {\n",
       "        vertical-align: top;\n",
       "    }\n",
       "\n",
       "    .dataframe thead th {\n",
       "        text-align: right;\n",
       "    }\n",
       "</style>\n",
       "<table border=\"1\" class=\"dataframe\">\n",
       "  <thead>\n",
       "    <tr style=\"text-align: right;\">\n",
       "      <th></th>\n",
       "      <th>Arbol</th>\n",
       "      <th>SVM</th>\n",
       "      <th>Naive</th>\n",
       "      <th>RL</th>\n",
       "      <th>Regresion</th>\n",
       "      <th>passenger_survived</th>\n",
       "      <th>Y_Moda</th>\n",
       "    </tr>\n",
       "  </thead>\n",
       "  <tbody>\n",
       "    <tr>\n",
       "      <th>0</th>\n",
       "      <td>Y</td>\n",
       "      <td>Y</td>\n",
       "      <td>Y</td>\n",
       "      <td>Y</td>\n",
       "      <td>Y</td>\n",
       "      <td>Y</td>\n",
       "      <td>Y</td>\n",
       "    </tr>\n",
       "    <tr>\n",
       "      <th>1</th>\n",
       "      <td>Y</td>\n",
       "      <td>N</td>\n",
       "      <td>N</td>\n",
       "      <td>N</td>\n",
       "      <td>N</td>\n",
       "      <td>N</td>\n",
       "      <td>N</td>\n",
       "    </tr>\n",
       "    <tr>\n",
       "      <th>2</th>\n",
       "      <td>N</td>\n",
       "      <td>N</td>\n",
       "      <td>N</td>\n",
       "      <td>N</td>\n",
       "      <td>N</td>\n",
       "      <td>N</td>\n",
       "      <td>N</td>\n",
       "    </tr>\n",
       "    <tr>\n",
       "      <th>3</th>\n",
       "      <td>Y</td>\n",
       "      <td>Y</td>\n",
       "      <td>Y</td>\n",
       "      <td>Y</td>\n",
       "      <td>Y</td>\n",
       "      <td>Y</td>\n",
       "      <td>Y</td>\n",
       "    </tr>\n",
       "    <tr>\n",
       "      <th>4</th>\n",
       "      <td>N</td>\n",
       "      <td>N</td>\n",
       "      <td>N</td>\n",
       "      <td>N</td>\n",
       "      <td>Y</td>\n",
       "      <td>N</td>\n",
       "      <td>N</td>\n",
       "    </tr>\n",
       "    <tr>\n",
       "      <th>...</th>\n",
       "      <td>...</td>\n",
       "      <td>...</td>\n",
       "      <td>...</td>\n",
       "      <td>...</td>\n",
       "      <td>...</td>\n",
       "      <td>...</td>\n",
       "      <td>...</td>\n",
       "    </tr>\n",
       "    <tr>\n",
       "      <th>174</th>\n",
       "      <td>Y</td>\n",
       "      <td>N</td>\n",
       "      <td>N</td>\n",
       "      <td>N</td>\n",
       "      <td>N</td>\n",
       "      <td>N</td>\n",
       "      <td>N</td>\n",
       "    </tr>\n",
       "    <tr>\n",
       "      <th>175</th>\n",
       "      <td>N</td>\n",
       "      <td>N</td>\n",
       "      <td>N</td>\n",
       "      <td>N</td>\n",
       "      <td>N</td>\n",
       "      <td>N</td>\n",
       "      <td>N</td>\n",
       "    </tr>\n",
       "    <tr>\n",
       "      <th>176</th>\n",
       "      <td>N</td>\n",
       "      <td>N</td>\n",
       "      <td>N</td>\n",
       "      <td>N</td>\n",
       "      <td>N</td>\n",
       "      <td>N</td>\n",
       "      <td>N</td>\n",
       "    </tr>\n",
       "    <tr>\n",
       "      <th>177</th>\n",
       "      <td>N</td>\n",
       "      <td>N</td>\n",
       "      <td>N</td>\n",
       "      <td>N</td>\n",
       "      <td>N</td>\n",
       "      <td>N</td>\n",
       "      <td>N</td>\n",
       "    </tr>\n",
       "    <tr>\n",
       "      <th>178</th>\n",
       "      <td>N</td>\n",
       "      <td>N</td>\n",
       "      <td>N</td>\n",
       "      <td>N</td>\n",
       "      <td>N</td>\n",
       "      <td>N</td>\n",
       "      <td>N</td>\n",
       "    </tr>\n",
       "  </tbody>\n",
       "</table>\n",
       "<p>179 rows × 7 columns</p>\n",
       "</div>"
      ],
      "text/plain": [
       "    Arbol SVM Naive RL Regresion passenger_survived Y_Moda\n",
       "0       Y   Y     Y  Y         Y                  Y      Y\n",
       "1       Y   N     N  N         N                  N      N\n",
       "2       N   N     N  N         N                  N      N\n",
       "3       Y   Y     Y  Y         Y                  Y      Y\n",
       "4       N   N     N  N         Y                  N      N\n",
       "..    ...  ..   ... ..       ...                ...    ...\n",
       "174     Y   N     N  N         N                  N      N\n",
       "175     N   N     N  N         N                  N      N\n",
       "176     N   N     N  N         N                  N      N\n",
       "177     N   N     N  N         N                  N      N\n",
       "178     N   N     N  N         N                  N      N\n",
       "\n",
       "[179 rows x 7 columns]"
      ]
     },
     "execution_count": 68,
     "metadata": {},
     "output_type": "execute_result"
    }
   ],
   "source": [
    "Y_Real = Y_Test.copy()\n",
    "final_m.reset_index(drop=True, inplace=True)\n",
    "Y_Real.reset_index(drop=True, inplace=True)\n",
    "Comparacion = pd.concat( [final_m, Y_Real.passenger_survived,Y_hat], axis=1)\n",
    "Comparacion"
   ]
  },
  {
   "cell_type": "code",
   "execution_count": 69,
   "id": "protective-supervisor",
   "metadata": {},
   "outputs": [
    {
     "data": {
      "text/html": [
       "<div>\n",
       "<style scoped>\n",
       "    .dataframe tbody tr th:only-of-type {\n",
       "        vertical-align: middle;\n",
       "    }\n",
       "\n",
       "    .dataframe tbody tr th {\n",
       "        vertical-align: top;\n",
       "    }\n",
       "\n",
       "    .dataframe thead th {\n",
       "        text-align: right;\n",
       "    }\n",
       "</style>\n",
       "<table border=\"1\" class=\"dataframe\">\n",
       "  <thead>\n",
       "    <tr style=\"text-align: right;\">\n",
       "      <th></th>\n",
       "      <th>Precision</th>\n",
       "      <th>Recall</th>\n",
       "      <th>F1</th>\n",
       "      <th>Accuracy</th>\n",
       "    </tr>\n",
       "  </thead>\n",
       "  <tbody>\n",
       "    <tr>\n",
       "      <th>0</th>\n",
       "      <td>0.85</td>\n",
       "      <td>0.64</td>\n",
       "      <td>0.73</td>\n",
       "      <td>0.82</td>\n",
       "    </tr>\n",
       "  </tbody>\n",
       "</table>\n",
       "</div>"
      ],
      "text/plain": [
       "  Precision Recall    F1 Accuracy\n",
       "0      0.85   0.64  0.73     0.82"
      ]
     },
     "execution_count": 69,
     "metadata": {},
     "output_type": "execute_result"
    }
   ],
   "source": [
    "Metricas_f = pd.DataFrame({'Precision': [\"{:0.2f}\".format(metrics.precision_score(Y_Test, Y_hat,pos_label='Y'))],\n",
    "                           'Recall': [\"{:0.2f}\".format(metrics.recall_score(Y_Test, Y_hat,pos_label='Y'))],\n",
    "                           'F1': [\"{:0.2f}\".format(metrics.f1_score(Y_Test, Y_hat,pos_label='Y'))],\n",
    "                           'Accuracy': [\"{:0.2f}\".format(metrics.accuracy_score(Y_Test, Y_hat))]\n",
    "                     })\n",
    "Metricas_f"
   ]
  },
  {
   "cell_type": "markdown",
   "id": "absolute-thomson",
   "metadata": {},
   "source": [
    "<font color=blue>**1.4.7. Conclusiones/Recomendaciones**\n",
    "\n",
    "- Es importante realizar el analisis de los datos que se proveen ya que puede que algunos no brinder informacion relevante para el modelo que se quiere obtener.\n",
    "- Es importante la realizacion de feature enginering para estadarizar nuestros datos, ya que pueden existir datos que no faltantes, escalas distintas, que dificulten obtener un buen resultado en nuestro modelo.\n",
    "- Entre las lecciones aprendidas que puedo mencionar es que el tener conocimiento basico de como trabajan los modelos nos permite conocer con profundidad que se esta realizando y podemos aplicar con conciencia los modelos que mejor se ajusten a el resultado deseado, y no solamente utilizar funciones sin conocer que proceso interno ejecutan."
   ]
  }
 ],
 "metadata": {
  "kernelspec": {
   "display_name": "Python 3",
   "language": "python",
   "name": "python3"
  },
  "language_info": {
   "codemirror_mode": {
    "name": "ipython",
    "version": 3
   },
   "file_extension": ".py",
   "mimetype": "text/x-python",
   "name": "python",
   "nbconvert_exporter": "python",
   "pygments_lexer": "ipython3",
   "version": "3.8.5"
  }
 },
 "nbformat": 4,
 "nbformat_minor": 5
}
